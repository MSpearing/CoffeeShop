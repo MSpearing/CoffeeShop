{
 "cells": [
  {
   "cell_type": "code",
   "execution_count": 1,
   "metadata": {
    "collapsed": true
   },
   "outputs": [],
   "source": [
    "# Michael Spearing\n",
    "# Started: April 26, 2017\n",
    "# Data Science Lab"
   ]
  },
  {
   "cell_type": "code",
   "execution_count": 2,
   "metadata": {
    "collapsed": false
   },
   "outputs": [],
   "source": [
    "import numpy as np\n",
    "import pandas as pd\n",
    "import matplotlib.pyplot as plt\n",
    "from datetime import datetime\n",
    "import pygame\n",
    "import time\n",
    "pygame.mixer.init()\n",
    "pygame.mixer.music.load(\"beep-07.wav\")\n"
   ]
  },
  {
   "cell_type": "code",
   "execution_count": 3,
   "metadata": {
    "collapsed": true
   },
   "outputs": [],
   "source": [
    "def alert(num = 1):\n",
    "    for x in range(num):\n",
    "        pygame.mixer.music.play()\n",
    "        time.sleep(2)"
   ]
  },
  {
   "cell_type": "code",
   "execution_count": 4,
   "metadata": {
    "collapsed": false,
    "scrolled": true
   },
   "outputs": [
    {
     "name": "stdout",
     "output_type": "stream",
     "text": [
      "   YEARMODA  TEMP   PRCP\n",
      "0  20140101  49.1  0.00G\n",
      "1  20140102  47.5  0.00G\n",
      "2  20140103  40.6  0.00G\n",
      "3  20140104  53.8  0.00G\n",
      "4  20140105  51.8  0.00G\n",
      "   YEARMODA  TEMP PRCP\n",
      "0  20140101  49.1    0\n",
      "1  20140102  47.5    0\n",
      "2  20140103  40.6    0\n",
      "3  20140104  53.8    0\n",
      "4  20140105  51.8    0\n",
      "<type 'numpy.int64'>\n",
      "<type 'numpy.float64'>\n",
      "<type 'numpy.float64'>\n"
     ]
    }
   ],
   "source": [
    "# Adding & preprocessing the weather data\n",
    "# SOURCE: https://www.ncdc.noaa.gov/\n",
    "file_weather = \"WeatherData.csv\"\n",
    "data_weather_full = pd.read_csv(file_weather, skipinitialspace = True)\n",
    "features_weather = [\"YEARMODA\", \"TEMP\", \"PRCP\"]\n",
    "data_weather = data_weather_full.loc[:,features_weather]\n",
    "print data_weather.head()\n",
    "\n",
    "for i in range(len(data_weather)):\n",
    "    tmp = np.float64(data_weather.loc[i,\"PRCP\"][:4])\n",
    "    data_weather.loc[i,\"PRCP\"] = tmp\n",
    "print(data_weather.head())\n",
    "for ft in features_weather:\n",
    "    print(type(data_weather.loc[1,ft]))"
   ]
  },
  {
   "cell_type": "code",
   "execution_count": 5,
   "metadata": {
    "collapsed": false,
    "scrolled": false
   },
   "outputs": [
    {
     "name": "stdout",
     "output_type": "stream",
     "text": [
      "[0 'YEARMODA' 'TEMP' 'PRCP']\n",
      "           0  TEMP PRCP\n",
      "0 2014-01-01  49.1    0\n",
      "1 2014-01-02  47.5    0\n",
      "2 2014-01-03  40.6    0\n",
      "3 2014-01-04  53.8    0\n",
      "4 2014-01-05  51.8    0\n"
     ]
    }
   ],
   "source": [
    "dates_weather = []\n",
    "for i in range(len(data_weather)):\n",
    "    d = datetime.strptime(str(data_weather[\"YEARMODA\"][i]), '%Y%m%d')\n",
    "    dates_weather.append(d)\n",
    "\n",
    "dates_weather = pd.DataFrame(dates_weather)\n",
    "data_weather = pd.concat([dates_weather, data_weather], axis = 1)\n",
    "print data_weather.columns.values\n",
    "data_weather = data_weather.drop(\"YEARMODA\", axis=1)\n",
    "print data_weather.head()\n"
   ]
  },
  {
   "cell_type": "code",
   "execution_count": 6,
   "metadata": {
    "collapsed": false
   },
   "outputs": [
    {
     "name": "stdout",
     "output_type": "stream",
     "text": [
      "        Date  TEMP PRCP\n",
      "0 2014-01-01  49.1    0\n",
      "1 2014-01-02  47.5    0\n",
      "2 2014-01-03  40.6    0\n",
      "3 2014-01-04  53.8    0\n",
      "4 2014-01-05  51.8    0\n"
     ]
    }
   ],
   "source": [
    "data_weather = data_weather.rename(index=str, columns = {0:\"Date\"})\n",
    "print data_weather.head()\n",
    "data_weather.to_csv(\"WeatherDataClean.csv\")"
   ]
  },
  {
   "cell_type": "code",
   "execution_count": 7,
   "metadata": {
    "collapsed": false,
    "scrolled": false
   },
   "outputs": [
    {
     "name": "stdout",
     "output_type": "stream",
     "text": [
      "(108654, 24)\n"
     ]
    },
    {
     "name": "stderr",
     "output_type": "stream",
     "text": [
      "/Users/michaelspearing/anaconda/lib/python2.7/site-packages/IPython/core/interactiveshell.py:2717: DtypeWarning: Columns (21,22,23) have mixed types. Specify dtype option on import or set low_memory=False.\n",
      "  interactivity=interactivity, compiler=compiler, result=result)\n"
     ]
    },
    {
     "name": "stdout",
     "output_type": "stream",
     "text": [
      "(147186, 24)\n",
      "(190065, 14)\n",
      "(445905, 8)\n",
      "<type 'str'>\n",
      "<type 'str'>\n",
      "<type 'str'>\n",
      "<type 'str'>\n",
      "<type 'numpy.int64'>\n",
      "<type 'str'>\n",
      "<type 'str'>\n",
      "<type 'str'>\n"
     ]
    }
   ],
   "source": [
    "file_2014 = \"items-2014-01-01-2015-01-01.csv\"\n",
    "file_2015 = \"items-2015-01-01-2016-01-01.csv\"\n",
    "file_2016 = \"items-2016-01-01-2017-01-01.csv\"\n",
    "\n",
    "data_2014 = pd.read_csv(file_2014)\n",
    "print(data_2014.shape)\n",
    "\n",
    "data_2015 = pd.read_csv(file_2015)\n",
    "print(data_2015.shape)\n",
    "\n",
    "data_2016 = pd.read_csv(file_2016)\n",
    "print(data_2016.shape)\n",
    "\n",
    "data_Full = pd.concat([data_2014, data_2015, data_2016], ignore_index=True)\n",
    "\n",
    "features = [\"Date\", \"Time\", \"Category\", \"Item\", \"Qty\", \"Price Point Name\", \"Net Sales\", \"Transaction ID\"]\n",
    "data = data_Full[features]\n",
    "print(data.shape)\n",
    "for ft in features:\n",
    "    print(type(data_Full.loc[1,ft]))"
   ]
  },
  {
   "cell_type": "code",
   "execution_count": 8,
   "metadata": {
    "collapsed": false
   },
   "outputs": [
    {
     "name": "stdout",
     "output_type": "stream",
     "text": [
      "Date has 1059 unique values.\n",
      "Time has 42141 unique values.\n",
      "Category has 20 unique values.\n",
      "Item has 243 unique values.\n",
      "Qty has 35 unique values.\n",
      "Price Point Name has 454 unique values.\n",
      "Net Sales has 1302 unique values.\n",
      "Transaction ID has 239959 unique values.\n"
     ]
    }
   ],
   "source": [
    "# Lets take a look at all of the categories per feature.\n",
    "features_unique_count = {}\n",
    "features_unique = {}\n",
    "for feature in features:\n",
    "    features_unique[feature] = data[feature].unique()\n",
    "    print(feature + \" has %d unique values.\" %(features_unique[feature].size))"
   ]
  },
  {
   "cell_type": "code",
   "execution_count": 9,
   "metadata": {
    "collapsed": false
   },
   "outputs": [
    {
     "name": "stdout",
     "output_type": "stream",
     "text": [
      "START TIME: Tue May  2 16:49:04 2017\n",
      "PROGRESS: 0\n",
      "PROGRESS: 100000\n",
      "PROGRESS: 200000\n",
      "PROGRESS: 300000\n",
      "PROGRESS: 400000\n",
      "END TIME: Tue May  2 16:53:50 2017\n"
     ]
    }
   ],
   "source": [
    "print (\"START TIME: \" + str(time.asctime( time.localtime(time.time()))))\n",
    "# Add some features that correspond to time\n",
    "# Month\n",
    "dates = [None]*len(data)\n",
    "times = [None]*len(data)\n",
    "month = [None]*len(data)\n",
    "year = [None]*len(data)\n",
    "day_of_week = [None]*len(data)\n",
    "day_of_month = [None]*len(data)\n",
    "for i in range(len(data)):\n",
    "    date = datetime.strptime((data.loc[i,\"Date\"]), '%m/%d/%Y')\n",
    "    dates[i] = date\n",
    "    t = datetime.strptime((data.loc[i,\"Time\"]), '%H:%M:%S')\n",
    "    times[i] = t\n",
    "    month[i] = (date.month)\n",
    "    day_of_month[i] = (date.day)\n",
    "    year[i] = date.year\n",
    "\n",
    "    # Monday is 0, sunday is 6\n",
    "    day_of_week[i] = date.weekday()\n",
    "    if i % 100000 == 0:\n",
    "        print(\"PROGRESS: %d\" %i)\n",
    "# Day of the week\n",
    "# Day of the month\n",
    "print (\"END TIME: \" + str(time.asctime( time.localtime(time.time()))))"
   ]
  },
  {
   "cell_type": "code",
   "execution_count": 10,
   "metadata": {
    "collapsed": false
   },
   "outputs": [
    {
     "name": "stdout",
     "output_type": "stream",
     "text": [
      "        Date  Month  Day_of_month  Day_of_week                Time  Year  \\\n",
      "0 2014-12-31     12            31            2 1900-01-01 14:06:56  2014   \n",
      "1 2014-12-31     12            31            2 1900-01-01 14:03:29  2014   \n",
      "2 2014-12-31     12            31            2 1900-01-01 14:02:26  2014   \n",
      "3 2014-12-31     12            31            2 1900-01-01 14:01:23  2014   \n",
      "4 2014-12-31     12            31            2 1900-01-01 14:00:56  2014   \n",
      "\n",
      "        Category         Item  Qty Price Point Name Net Sales  \\\n",
      "0   1 Hot Drinks  Caffe Latte    1            16 oz    $3.75    \n",
      "1  2 Cold Drinks       Frappé    1    16.oz Caramel    $4.29    \n",
      "2   1 Hot Drinks        Mocha    1            12 oz    $4.25    \n",
      "3   1 Hot Drinks    Americano    1            12 oz    $2.29    \n",
      "4   1 Hot Drinks   Cappuccino    1    Regular Price    $2.85    \n",
      "\n",
      "                         Transaction ID  \n",
      "0  aa80a203-88c8-4dae-a5e2-5f885e01182a  \n",
      "1  926342ef-515a-4d48-96ac-e8c4e37b8590  \n",
      "2  4f0f7023-cdd4-4b45-86d4-8f33893e8a25  \n",
      "3  e31651d8-8543-467a-860b-cf890afeea7e  \n",
      "4  3dcdc1ac-11b4-4657-9c4d-b26b99202856  \n"
     ]
    }
   ],
   "source": [
    "# Add in time/date data\n",
    "data = data.drop(\"Date\", axis = 1)\n",
    "data = data.drop(\"Time\", axis = 1)\n",
    "data.insert(0,\"Date\",pd.Series(dates))\n",
    "data.insert(1,\"Month\",pd.Series(month))\n",
    "data.insert(2,\"Day_of_month\", pd.Series(day_of_month))\n",
    "data.insert(3,\"Day_of_week\", pd.Series(day_of_week))\n",
    "data.insert(4, \"Time\", pd.Series(times))\n",
    "data.insert(5,\"Year\",pd.Series(year))\n",
    "print data.head()"
   ]
  },
  {
   "cell_type": "code",
   "execution_count": 11,
   "metadata": {
    "collapsed": false
   },
   "outputs": [
    {
     "data": {
      "text/html": [
       "<div>\n",
       "<table border=\"1\" class=\"dataframe\">\n",
       "  <thead>\n",
       "    <tr style=\"text-align: right;\">\n",
       "      <th></th>\n",
       "      <th>Date</th>\n",
       "      <th>Month</th>\n",
       "      <th>Day_of_month</th>\n",
       "      <th>Day_of_week</th>\n",
       "      <th>Time</th>\n",
       "      <th>Year</th>\n",
       "      <th>Category</th>\n",
       "      <th>Item</th>\n",
       "      <th>Qty</th>\n",
       "      <th>Price Point Name</th>\n",
       "      <th>Net Sales</th>\n",
       "      <th>Transaction ID</th>\n",
       "      <th>TEMP</th>\n",
       "      <th>PRCP</th>\n",
       "    </tr>\n",
       "  </thead>\n",
       "  <tbody>\n",
       "    <tr>\n",
       "      <th>0</th>\n",
       "      <td>2014-12-31</td>\n",
       "      <td>12</td>\n",
       "      <td>31</td>\n",
       "      <td>2</td>\n",
       "      <td>1900-01-01 14:06:56</td>\n",
       "      <td>2014</td>\n",
       "      <td>1 Hot Drinks</td>\n",
       "      <td>Caffe Latte</td>\n",
       "      <td>1</td>\n",
       "      <td>16 oz</td>\n",
       "      <td>$3.75</td>\n",
       "      <td>aa80a203-88c8-4dae-a5e2-5f885e01182a</td>\n",
       "      <td>39.1</td>\n",
       "      <td>0</td>\n",
       "    </tr>\n",
       "    <tr>\n",
       "      <th>1</th>\n",
       "      <td>2014-12-31</td>\n",
       "      <td>12</td>\n",
       "      <td>31</td>\n",
       "      <td>2</td>\n",
       "      <td>1900-01-01 14:03:29</td>\n",
       "      <td>2014</td>\n",
       "      <td>2 Cold Drinks</td>\n",
       "      <td>Frappé</td>\n",
       "      <td>1</td>\n",
       "      <td>16.oz Caramel</td>\n",
       "      <td>$4.29</td>\n",
       "      <td>926342ef-515a-4d48-96ac-e8c4e37b8590</td>\n",
       "      <td>39.1</td>\n",
       "      <td>0</td>\n",
       "    </tr>\n",
       "    <tr>\n",
       "      <th>2</th>\n",
       "      <td>2014-12-31</td>\n",
       "      <td>12</td>\n",
       "      <td>31</td>\n",
       "      <td>2</td>\n",
       "      <td>1900-01-01 14:02:26</td>\n",
       "      <td>2014</td>\n",
       "      <td>1 Hot Drinks</td>\n",
       "      <td>Mocha</td>\n",
       "      <td>1</td>\n",
       "      <td>12 oz</td>\n",
       "      <td>$4.25</td>\n",
       "      <td>4f0f7023-cdd4-4b45-86d4-8f33893e8a25</td>\n",
       "      <td>39.1</td>\n",
       "      <td>0</td>\n",
       "    </tr>\n",
       "    <tr>\n",
       "      <th>3</th>\n",
       "      <td>2014-12-31</td>\n",
       "      <td>12</td>\n",
       "      <td>31</td>\n",
       "      <td>2</td>\n",
       "      <td>1900-01-01 14:01:23</td>\n",
       "      <td>2014</td>\n",
       "      <td>1 Hot Drinks</td>\n",
       "      <td>Americano</td>\n",
       "      <td>1</td>\n",
       "      <td>12 oz</td>\n",
       "      <td>$2.29</td>\n",
       "      <td>e31651d8-8543-467a-860b-cf890afeea7e</td>\n",
       "      <td>39.1</td>\n",
       "      <td>0</td>\n",
       "    </tr>\n",
       "    <tr>\n",
       "      <th>4</th>\n",
       "      <td>2014-12-31</td>\n",
       "      <td>12</td>\n",
       "      <td>31</td>\n",
       "      <td>2</td>\n",
       "      <td>1900-01-01 14:00:56</td>\n",
       "      <td>2014</td>\n",
       "      <td>1 Hot Drinks</td>\n",
       "      <td>Cappuccino</td>\n",
       "      <td>1</td>\n",
       "      <td>Regular Price</td>\n",
       "      <td>$2.85</td>\n",
       "      <td>3dcdc1ac-11b4-4657-9c4d-b26b99202856</td>\n",
       "      <td>39.1</td>\n",
       "      <td>0</td>\n",
       "    </tr>\n",
       "  </tbody>\n",
       "</table>\n",
       "</div>"
      ],
      "text/plain": [
       "        Date  Month  Day_of_month  Day_of_week                Time  Year  \\\n",
       "0 2014-12-31     12            31            2 1900-01-01 14:06:56  2014   \n",
       "1 2014-12-31     12            31            2 1900-01-01 14:03:29  2014   \n",
       "2 2014-12-31     12            31            2 1900-01-01 14:02:26  2014   \n",
       "3 2014-12-31     12            31            2 1900-01-01 14:01:23  2014   \n",
       "4 2014-12-31     12            31            2 1900-01-01 14:00:56  2014   \n",
       "\n",
       "        Category         Item  Qty Price Point Name Net Sales  \\\n",
       "0   1 Hot Drinks  Caffe Latte    1            16 oz    $3.75    \n",
       "1  2 Cold Drinks       Frappé    1    16.oz Caramel    $4.29    \n",
       "2   1 Hot Drinks        Mocha    1            12 oz    $4.25    \n",
       "3   1 Hot Drinks    Americano    1            12 oz    $2.29    \n",
       "4   1 Hot Drinks   Cappuccino    1    Regular Price    $2.85    \n",
       "\n",
       "                         Transaction ID  TEMP PRCP  \n",
       "0  aa80a203-88c8-4dae-a5e2-5f885e01182a  39.1    0  \n",
       "1  926342ef-515a-4d48-96ac-e8c4e37b8590  39.1    0  \n",
       "2  4f0f7023-cdd4-4b45-86d4-8f33893e8a25  39.1    0  \n",
       "3  e31651d8-8543-467a-860b-cf890afeea7e  39.1    0  \n",
       "4  3dcdc1ac-11b4-4657-9c4d-b26b99202856  39.1    0  "
      ]
     },
     "execution_count": 11,
     "metadata": {},
     "output_type": "execute_result"
    }
   ],
   "source": [
    "# Add in the weather data\n",
    "data = (pd.DataFrame.merge(data, data_weather, on=\"Date\"))\n",
    "data.head()"
   ]
  },
  {
   "cell_type": "code",
   "execution_count": 12,
   "metadata": {
    "collapsed": false
   },
   "outputs": [
    {
     "name": "stdout",
     "output_type": "stream",
     "text": [
      "START TIME: Tue May  2 16:53:50 2017\n",
      "PROGRESS: 0\n",
      "PROGRESS: 10000\n",
      "PROGRESS: 20000\n",
      "PROGRESS: 30000\n",
      "PROGRESS: 40000\n",
      "PROGRESS: 50000\n",
      "PROGRESS: 60000\n",
      "PROGRESS: 70000\n",
      "PROGRESS: 80000\n",
      "PROGRESS: 90000\n",
      "PROGRESS: 100000\n",
      "PROGRESS: 110000\n",
      "PROGRESS: 120000\n",
      "PROGRESS: 130000\n",
      "PROGRESS: 140000\n",
      "PROGRESS: 150000\n",
      "PROGRESS: 160000\n",
      "PROGRESS: 170000\n",
      "PROGRESS: 180000\n",
      "PROGRESS: 190000\n",
      "PROGRESS: 200000\n",
      "PROGRESS: 210000\n",
      "PROGRESS: 220000\n",
      "PROGRESS: 230000\n",
      "PROGRESS: 240000\n",
      "PROGRESS: 250000\n",
      "PROGRESS: 260000\n",
      "PROGRESS: 270000\n",
      "PROGRESS: 280000\n",
      "PROGRESS: 290000\n",
      "PROGRESS: 300000\n",
      "PROGRESS: 310000\n",
      "PROGRESS: 320000\n",
      "PROGRESS: 330000\n",
      "PROGRESS: 340000\n",
      "PROGRESS: 350000\n",
      "PROGRESS: 360000\n",
      "PROGRESS: 370000\n",
      "PROGRESS: 380000\n",
      "PROGRESS: 390000\n",
      "PROGRESS: 400000\n",
      "PROGRESS: 410000\n",
      "PROGRESS: 420000\n",
      "PROGRESS: 430000\n",
      "PROGRESS: 440000\n"
     ]
    }
   ],
   "source": [
    "# Strip off the $ symbol from the net Sales\n",
    "print (\"START TIME: \" + str(time.asctime( time.localtime(time.time()))))\n",
    "sales = [None]*len(data)\n",
    "for i in range(len(data)):\n",
    "    if(data.loc[i,\"Net Sales\"][0] == \"(\"):\n",
    "        tmp = np.float64(data.loc[i,\"Net Sales\"][2:-1])\n",
    "        tmp = tmp * -1\n",
    "    else:\n",
    "        tmp = np.float64(data.loc[i,\"Net Sales\"][1:])\n",
    "    sales[i] = tmp\n",
    "    if i % 10000 == 0:\n",
    "        print(\"PROGRESS: %d\" %i)"
   ]
  },
  {
   "cell_type": "code",
   "execution_count": 13,
   "metadata": {
    "collapsed": false
   },
   "outputs": [
    {
     "name": "stdout",
     "output_type": "stream",
     "text": [
      "        Date  Month  Day_of_month  Day_of_week                Time  Year  \\\n",
      "0 2014-12-31     12            31            2 1900-01-01 14:06:56  2014   \n",
      "1 2014-12-31     12            31            2 1900-01-01 14:03:29  2014   \n",
      "2 2014-12-31     12            31            2 1900-01-01 14:02:26  2014   \n",
      "3 2014-12-31     12            31            2 1900-01-01 14:01:23  2014   \n",
      "4 2014-12-31     12            31            2 1900-01-01 14:00:56  2014   \n",
      "\n",
      "        Category         Item  Qty  Net Sales Price Point Name  \\\n",
      "0   1 Hot Drinks  Caffe Latte    1       3.75            16 oz   \n",
      "1  2 Cold Drinks       Frappé    1       4.29    16.oz Caramel   \n",
      "2   1 Hot Drinks        Mocha    1       4.25            12 oz   \n",
      "3   1 Hot Drinks    Americano    1       2.29            12 oz   \n",
      "4   1 Hot Drinks   Cappuccino    1       2.85    Regular Price   \n",
      "\n",
      "                         Transaction ID  TEMP PRCP  \n",
      "0  aa80a203-88c8-4dae-a5e2-5f885e01182a  39.1    0  \n",
      "1  926342ef-515a-4d48-96ac-e8c4e37b8590  39.1    0  \n",
      "2  4f0f7023-cdd4-4b45-86d4-8f33893e8a25  39.1    0  \n",
      "3  e31651d8-8543-467a-860b-cf890afeea7e  39.1    0  \n",
      "4  3dcdc1ac-11b4-4657-9c4d-b26b99202856  39.1    0  \n"
     ]
    }
   ],
   "source": [
    "data = data.drop(\"Net Sales\", axis=1)\n",
    "data.insert(9, \"Net Sales\", pd.Series(sales))\n",
    "print(data.head())"
   ]
  },
  {
   "cell_type": "code",
   "execution_count": 14,
   "metadata": {
    "collapsed": false
   },
   "outputs": [],
   "source": [
    "data.to_csv(\"items-2014-01-01-2017-01-01-Weather.csv\")\n",
    "alert(3)"
   ]
  }
 ],
 "metadata": {
  "anaconda-cloud": {},
  "kernelspec": {
   "display_name": "Python [default]",
   "language": "python",
   "name": "python2"
  },
  "language_info": {
   "codemirror_mode": {
    "name": "ipython",
    "version": 2
   },
   "file_extension": ".py",
   "mimetype": "text/x-python",
   "name": "python",
   "nbconvert_exporter": "python",
   "pygments_lexer": "ipython2",
   "version": "2.7.12"
  }
 },
 "nbformat": 4,
 "nbformat_minor": 1
}

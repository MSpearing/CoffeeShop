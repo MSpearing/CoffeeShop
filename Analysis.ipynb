{
 "cells": [
  {
   "cell_type": "code",
   "execution_count": 1,
   "metadata": {
    "collapsed": true
   },
   "outputs": [],
   "source": [
    "# Michael Spearing\n",
    "# Started: April 26, 2017\n",
    "# Data Science Lab"
   ]
  },
  {
   "cell_type": "code",
   "execution_count": 2,
   "metadata": {
    "collapsed": false
   },
   "outputs": [],
   "source": [
    "import numpy as np\n",
    "import pandas as pd\n",
    "import matplotlib.pyplot as plt\n",
    "from datetime import datetime\n",
    "import pygame\n",
    "import time\n",
    "pygame.mixer.init()\n",
    "pygame.mixer.music.load(\"beep-07.wav\")\n"
   ]
  },
  {
   "cell_type": "code",
   "execution_count": 3,
   "metadata": {
    "collapsed": true
   },
   "outputs": [],
   "source": [
    "def alert(num):\n",
    "    for x in range(num):\n",
    "        pygame.mixer.music.play()\n",
    "        time.sleep(2)"
   ]
  },
  {
   "cell_type": "code",
   "execution_count": 4,
   "metadata": {
    "collapsed": false
   },
   "outputs": [
    {
     "data": {
      "text/html": [
       "<div>\n",
       "<table border=\"1\" class=\"dataframe\">\n",
       "  <thead>\n",
       "    <tr style=\"text-align: right;\">\n",
       "      <th></th>\n",
       "      <th>Date</th>\n",
       "      <th>Time</th>\n",
       "      <th>Category</th>\n",
       "      <th>Item</th>\n",
       "      <th>Qty</th>\n",
       "      <th>Price Point Name</th>\n",
       "      <th>Net Sales</th>\n",
       "      <th>Transaction ID</th>\n",
       "    </tr>\n",
       "  </thead>\n",
       "  <tbody>\n",
       "    <tr>\n",
       "      <th>0</th>\n",
       "      <td>12/31/16</td>\n",
       "      <td>16:52:04</td>\n",
       "      <td>1 Hot Drinks</td>\n",
       "      <td>Tea</td>\n",
       "      <td>1</td>\n",
       "      <td>20 oz</td>\n",
       "      <td>$3.75</td>\n",
       "      <td>d03AxLnaHYYYHNHlsJmK8xreV</td>\n",
       "    </tr>\n",
       "    <tr>\n",
       "      <th>1</th>\n",
       "      <td>12/31/16</td>\n",
       "      <td>16:49:47</td>\n",
       "      <td>1 Hot Drinks</td>\n",
       "      <td>Latte/Cappuccino</td>\n",
       "      <td>1</td>\n",
       "      <td>12 oz</td>\n",
       "      <td>$3.25</td>\n",
       "      <td>N0rqi3HeVh14y7WI7tv1EQmeV</td>\n",
       "    </tr>\n",
       "    <tr>\n",
       "      <th>2</th>\n",
       "      <td>12/31/16</td>\n",
       "      <td>16:44:51</td>\n",
       "      <td>1 Hot Drinks</td>\n",
       "      <td>Brew Coffee</td>\n",
       "      <td>4</td>\n",
       "      <td>12 oz</td>\n",
       "      <td>$7.40</td>\n",
       "      <td>9eGd92PVSyj1M1Csk8CPuSxeV</td>\n",
       "    </tr>\n",
       "    <tr>\n",
       "      <th>3</th>\n",
       "      <td>12/31/16</td>\n",
       "      <td>16:44:51</td>\n",
       "      <td>1 Hot Drinks</td>\n",
       "      <td>Espresso.double</td>\n",
       "      <td>1</td>\n",
       "      <td>Regular Price</td>\n",
       "      <td>$2.50</td>\n",
       "      <td>9eGd92PVSyj1M1Csk8CPuSxeV</td>\n",
       "    </tr>\n",
       "    <tr>\n",
       "      <th>4</th>\n",
       "      <td>12/31/16</td>\n",
       "      <td>16:44:51</td>\n",
       "      <td>1 Hot Drinks</td>\n",
       "      <td>Cappuccino</td>\n",
       "      <td>1</td>\n",
       "      <td>Regular Price</td>\n",
       "      <td>$3.35</td>\n",
       "      <td>9eGd92PVSyj1M1Csk8CPuSxeV</td>\n",
       "    </tr>\n",
       "  </tbody>\n",
       "</table>\n",
       "</div>"
      ],
      "text/plain": [
       "       Date      Time      Category              Item  Qty Price Point Name  \\\n",
       "0  12/31/16  16:52:04  1 Hot Drinks               Tea    1            20 oz   \n",
       "1  12/31/16  16:49:47  1 Hot Drinks  Latte/Cappuccino    1            12 oz   \n",
       "2  12/31/16  16:44:51  1 Hot Drinks       Brew Coffee    4            12 oz   \n",
       "3  12/31/16  16:44:51  1 Hot Drinks   Espresso.double    1    Regular Price   \n",
       "4  12/31/16  16:44:51  1 Hot Drinks        Cappuccino    1    Regular Price   \n",
       "\n",
       "  Net Sales             Transaction ID  \n",
       "0    $3.75   d03AxLnaHYYYHNHlsJmK8xreV  \n",
       "1    $3.25   N0rqi3HeVh14y7WI7tv1EQmeV  \n",
       "2    $7.40   9eGd92PVSyj1M1Csk8CPuSxeV  \n",
       "3    $2.50   9eGd92PVSyj1M1Csk8CPuSxeV  \n",
       "4    $3.35   9eGd92PVSyj1M1Csk8CPuSxeV  "
      ]
     },
     "execution_count": 4,
     "metadata": {},
     "output_type": "execute_result"
    }
   ],
   "source": [
    "file = \"items-2016-01-01-2017-01-01-SQEXPORT.csv\"\n",
    "data_Full = pd.read_csv(file)\n",
    "data_Full.head()\n",
    "features = [\"Date\", \"Time\", \"Category\", \"Item\", \"Qty\", \"Price Point Name\", \"Net Sales\", \"Transaction ID\"]\n",
    "data = data_Full[features]\n",
    "data.head()"
   ]
  },
  {
   "cell_type": "markdown",
   "metadata": {},
   "source": [
    "0) Location is static. Remove Time Zone.\n",
    "\n",
    "1) SKU is not populated, so we will remove it.\n",
    "\n",
    "2) Madifiers Applies does not seem applicable, we will remove it.\n",
    "\n",
    "3) Look into discounts - looks very sparse. If we omit it, omit Gross Sales.\n",
    "\n",
    "4) Tax is a function of Net Sales. Remove it."
   ]
  },
  {
   "cell_type": "markdown",
   "metadata": {},
   "source": [
    "%2.22 of purchases had a discount averaging $0.53 per item purchased with discount."
   ]
  },
  {
   "cell_type": "code",
   "execution_count": 5,
   "metadata": {
    "collapsed": false
   },
   "outputs": [
    {
     "name": "stdout",
     "output_type": "stream",
     "text": [
      "Date has 362 unique values.\n",
      "Time has 36016 unique values.\n",
      "Category has 16 unique values.\n",
      "Item has 138 unique values.\n",
      "Qty has 30 unique values.\n",
      "Price Point Name has 278 unique values.\n",
      "Net Sales has 920 unique values.\n",
      "Transaction ID has 100419 unique values.\n"
     ]
    }
   ],
   "source": [
    "# Lets take a look at all of the categories per feature.\n",
    "features_unique_count = {}\n",
    "features_unique = {}\n",
    "for feature in features:\n",
    "    features_unique[feature] = data[feature].unique()\n",
    "    print(feature + \" has %d unique values.\" %(features_unique[feature].size))"
   ]
  },
  {
   "cell_type": "code",
   "execution_count": 6,
   "metadata": {
    "collapsed": false
   },
   "outputs": [
    {
     "name": "stdout",
     "output_type": "stream",
     "text": [
      "START TIME: Wed Apr 26 23:51:31 2017\n",
      "0\n",
      "50000\n",
      "100000\n",
      "150000\n",
      "END TIME: Wed Apr 26 23:51:45 2017\n"
     ]
    }
   ],
   "source": [
    "print (\"START TIME: \" + str(time.asctime( time.localtime(time.time()))))\n",
    "# Add some features that correspond to time\n",
    "# Month\n",
    "month = []\n",
    "day_of_week = []\n",
    "day_of_month = []\n",
    "for i in range(len(data)):\n",
    "    date = datetime.strptime((data[\"Date\"][i]), '%m/%d/%y')\n",
    "    month.append(date.month)\n",
    "    day_of_month.append(date.day)\n",
    "    \n",
    "    if i % 50000 == 0:\n",
    "        print i\n",
    "# Day of the week\n",
    "# Day of the month\n",
    "alert(1)\n",
    "print (\"END TIME: \" + str(time.asctime( time.localtime(time.time()))))"
   ]
  },
  {
   "cell_type": "code",
   "execution_count": 7,
   "metadata": {
    "collapsed": false
   },
   "outputs": [
    {
     "name": "stdout",
     "output_type": "stream",
     "text": [
      "       Date  Month  day_of_month      Time      Category              Item  \\\n",
      "0  12/31/16     12            31  16:52:04  1 Hot Drinks               Tea   \n",
      "1  12/31/16     12            31  16:49:47  1 Hot Drinks  Latte/Cappuccino   \n",
      "2  12/31/16     12            31  16:44:51  1 Hot Drinks       Brew Coffee   \n",
      "3  12/31/16     12            31  16:44:51  1 Hot Drinks   Espresso.double   \n",
      "4  12/31/16     12            31  16:44:51  1 Hot Drinks        Cappuccino   \n",
      "\n",
      "   Qty Price Point Name Net Sales             Transaction ID  \n",
      "0    1            20 oz    $3.75   d03AxLnaHYYYHNHlsJmK8xreV  \n",
      "1    1            12 oz    $3.25   N0rqi3HeVh14y7WI7tv1EQmeV  \n",
      "2    4            12 oz    $7.40   9eGd92PVSyj1M1Csk8CPuSxeV  \n",
      "3    1    Regular Price    $2.50   9eGd92PVSyj1M1Csk8CPuSxeV  \n",
      "4    1    Regular Price    $3.35   9eGd92PVSyj1M1Csk8CPuSxeV  \n"
     ]
    }
   ],
   "source": [
    "# Add in weather data\n",
    "data.insert(1,\"Month\",pd.Series(month))\n",
    "data.insert(2,\"day_of_month\", pd.Series(day_of_month))\n",
    "print data.head()\n",
    "alert(1)"
   ]
  },
  {
   "cell_type": "code",
   "execution_count": null,
   "metadata": {
    "collapsed": true
   },
   "outputs": [],
   "source": []
  },
  {
   "cell_type": "code",
   "execution_count": null,
   "metadata": {
    "collapsed": false
   },
   "outputs": [],
   "source": [
    "# Use the day of the week from a time before anything we would have data on as a reference and do - days % 7."
   ]
  },
  {
   "cell_type": "code",
   "execution_count": null,
   "metadata": {
    "collapsed": true
   },
   "outputs": [],
   "source": []
  }
 ],
 "metadata": {
  "kernelspec": {
   "display_name": "Python [default]",
   "language": "python",
   "name": "python2"
  },
  "language_info": {
   "codemirror_mode": {
    "name": "ipython",
    "version": 2
   },
   "file_extension": ".py",
   "mimetype": "text/x-python",
   "name": "python",
   "nbconvert_exporter": "python",
   "pygments_lexer": "ipython2",
   "version": "2.7.12"
  }
 },
 "nbformat": 4,
 "nbformat_minor": 1
}
